{
 "cells": [
  {
   "attachments": {},
   "cell_type": "markdown",
   "metadata": {},
   "source": [
    "# در کلاسها setattr استفاده از تابع"
   ]
  },
  {
   "cell_type": "code",
   "execution_count": 1,
   "metadata": {},
   "outputs": [],
   "source": [
    "class Average:\n",
    "    def __init__(self, **kwargs):\n",
    "        self.average = 0\n",
    "        self.ghaboli = False\n",
    "        for key, value in kwargs.items():\n",
    "            setattr(self, key, value)\n",
    "    \n",
    "    def Ordered(self):\n",
    "        dic = {key:value for key, value in self.__dict__.items()}\n",
    "        list_sorti = list(dic.keys())\n",
    "        List_numbers = []\n",
    "        for item in ['average', 'ghaboli', 'name', 'date', 'number_st']:\n",
    "            list_sorti.remove(item)\n",
    "        for number in list_sorti:\n",
    "            List_numbers.append(dic[number])\n",
    "        return list_sorti, List_numbers\n",
    "    \n",
    "    def ave(self):\n",
    "            numbers = self.Ordered()[1]\n",
    "            self.average = sum(numbers) // len(numbers)\n",
    "\n",
    "    def Check(self):\n",
    "        self.ave()\n",
    "        if self.average >= 10:\n",
    "            self.ghaboli = True\n",
    "            print(f\"Hello {self.name}\\nyour number_student: {self.number_st}\\nentering year: {self.date}\")\n",
    "            print(f\"Average: {self.average}\\nResult: Congratulations, you have been accepted\")\n",
    "        else:\n",
    "            print(f\"Hello {self.name}\\nyour number_student: {self.number_st}\\nentering year: {self.date}\")\n",
    "            print(f\"Average: {self.average}\\nResult: Unfortunately, you have been rejected\")\n",
    "    \n",
    "    def Lessons(self):\n",
    "        self.Check()\n",
    "        print(\"------------------- Lessons -----------------\")\n",
    "        s = self.Ordered()\n",
    "        for i in range (len(s[0])):\n",
    "            print(f\"name: {s[0][i]}\\tnumber: {s[1][i]}\")"
   ]
  },
  {
   "attachments": {},
   "cell_type": "markdown",
   "metadata": {},
   "source": [
    "### در این قسمت آبجکت خود را میسازید فقط در نظر داشته باشید که ورودی باید با نام و مقدار باشد"
   ]
  },
  {
   "cell_type": "code",
   "execution_count": 2,
   "metadata": {},
   "outputs": [
    {
     "name": "stdout",
     "output_type": "stream",
     "text": [
      "Hello poria\n",
      "your number_student: 22\n",
      "entering year: 1397/05/14\n",
      "Average: 14\n",
      "Result: Congratulations, you have been accepted\n",
      "------------------- Lessons -----------------\n",
      "name: math\tnumber: 9\n",
      "name: physics\tnumber: 15\n",
      "name: olom\tnumber: 18\n"
     ]
    }
   ],
   "source": [
    "abj = Average(name=\"poria\", date=\"1397/05/14\", number_st=\"22\", math=9, physics=15, olom=18)\n",
    "abj.Lessons()"
   ]
  },
  {
   "attachments": {},
   "cell_type": "markdown",
   "metadata": {},
   "source": [
    "## یک مثال ساده در ساخت آبجکت پس از چک کردن یوزر "
   ]
  },
  {
   "cell_type": "code",
   "execution_count": 13,
   "metadata": {},
   "outputs": [
    {
     "name": "stdout",
     "output_type": "stream",
     "text": [
      "<__main__.Account object at 0x0000020A7A207A00>\n"
     ]
    }
   ],
   "source": [
    "class Account:\n",
    "    def __init__(self, username, password):\n",
    "        if username == \"Admin\":\n",
    "            raise ValueError(f\"Invalid username: {username}\")\n",
    "        else:\n",
    "            self.username = username\n",
    "            self.password = password\n",
    "    \n",
    "\n",
    "test = Account(\"poria\", \"1375\")\n",
    "print(test)"
   ]
  },
  {
   "cell_type": "markdown",
   "metadata": {},
   "source": [
    "## اضافه کردن قابلیت فراخوانی به آبجکت های ایجاد شده از کلاس"
   ]
  },
  {
   "cell_type": "code",
   "execution_count": 14,
   "metadata": {},
   "outputs": [
    {
     "name": "stdout",
     "output_type": "stream",
     "text": [
      "2\n",
      "8\n"
     ]
    }
   ],
   "source": [
    "class A:\n",
    "    def __init__(self, x):\n",
    "        self.x = x\n",
    "    \n",
    "    def __call__(self, x):\n",
    "        self.x = x\n",
    "\n",
    "\n",
    "a = A(2)\n",
    "print(a.x)\n",
    "\n",
    "a(8)\n",
    "print(a.x)"
   ]
  },
  {
   "attachments": {},
   "cell_type": "markdown",
   "metadata": {},
   "source": [
    "## مثالی برای کلاس اتربیوت و کلاس متد"
   ]
  },
  {
   "cell_type": "code",
   "execution_count": 15,
   "metadata": {},
   "outputs": [
    {
     "name": "stdout",
     "output_type": "stream",
     "text": [
      "vebsite name: sabzlern.ir\n",
      "\u001b[32mthe comment was censored!!\u001b[0m\n",
      "name: poria\n",
      "product: Python\n",
      "descripsion: این دوره بسیار *** بود\n",
      "date: 2023-05-23 19:39:16.145820\n",
      "like: 20 and dislike: 10\n"
     ]
    }
   ],
   "source": [
    "from datetime import datetime\n",
    "from termcolor import colored\n",
    "\n",
    "\n",
    "class Product:\n",
    "    def __init__(self, p_name, price, off):\n",
    "        self.p_name = p_name\n",
    "        self.price = price\n",
    "        self.off = off\n",
    "    \n",
    "    def __str__(self):\n",
    "        return f\"{self.p_name}\"\n",
    "\n",
    "\n",
    "class Comments:\n",
    "    vebsite_name = \"sabzlern.ir\"\n",
    "\n",
    "    def __init__(self, name, product, descripsion, like, dislike):\n",
    "        self.name = name\n",
    "        self.product = product\n",
    "        self.descripsion = descripsion\n",
    "        self.date = datetime.now()\n",
    "        self.like = like\n",
    "        self.dislike = dislike\n",
    "    \n",
    "    def Show(self):\n",
    "        print(f\"name: {self.name}\")\n",
    "        print(f\"product: {self.product}\")\n",
    "        print(f\"descripsion: {self.descripsion}\")\n",
    "        print(f\"date: {self.date}\")\n",
    "        print(f\"like: {self.like} and dislike: {self.dislike}\")\n",
    "    \n",
    "    @classmethod\n",
    "    def Info(cls):\n",
    "        print(f\"vebsite name: {cls.vebsite_name}\")\n",
    "    \n",
    "    @classmethod\n",
    "    def Censorship(cls, name, product, descripsion, like, dislike):\n",
    "        count = 0\n",
    "        for char in [\"خر\", \"گاو\", \"الاغ\", \"بیشعور\"]:\n",
    "            if char in descripsion:\n",
    "                count += 1\n",
    "                descripsion = descripsion.replace(char, \"***\")\n",
    "        if count >= 1:\n",
    "            print(colored(\"the comment was censored!!\", \"green\"))\n",
    "        return cls(name, product, descripsion, like, dislike)\n",
    "\n",
    "\n",
    "pro = Product(\"Python\", 0, 0)\n",
    "Comments.Info()\n",
    "c1 = Comments.Censorship(\"poria\", pro, \"این دوره بسیار گاو بود\", 20, 10)\n",
    "c1.Show()\n",
    "\n"
   ]
  }
 ],
 "metadata": {
  "kernelspec": {
   "display_name": "Python 3",
   "language": "python",
   "name": "python3"
  },
  "language_info": {
   "codemirror_mode": {
    "name": "ipython",
    "version": 3
   },
   "file_extension": ".py",
   "mimetype": "text/x-python",
   "name": "python",
   "nbconvert_exporter": "python",
   "pygments_lexer": "ipython3",
   "version": "3.10.10"
  },
  "orig_nbformat": 4
 },
 "nbformat": 4,
 "nbformat_minor": 2
}
